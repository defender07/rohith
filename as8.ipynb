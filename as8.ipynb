{
 "cells": [
  {
   "cell_type": "code",
   "execution_count": 2,
   "metadata": {},
   "outputs": [
    {
     "name": "stdout",
     "output_type": "stream",
     "text": [
      "enter th numbers:1,2,3\n",
      "the tuple = ('1', '2', '3')\n",
      "reversed tuple= ('3', '2', '1')\n"
     ]
    }
   ],
   "source": [
    "# reverse tupple\n",
    "t=tuple(input(\"enter th numbers:\").split(\",\"))\n",
    "print(\"the tuple =\",t)\n",
    "print(\"reversed tuple=\",t[::-1])"
   ]
  },
  {
   "cell_type": "code",
   "execution_count": 3,
   "metadata": {},
   "outputs": [
    {
     "name": "stdout",
     "output_type": "stream",
     "text": [
      "Enter Number seperated by comas:1,2,3,4\n",
      "Tuples ('1', '2', '3', '4')\n",
      "Average Value of the Number in Given Tuple : 2.5\n"
     ]
    }
   ],
   "source": [
    "#Average of Tuple\n",
    "t=tuple(input(\"Enter Number seperated by comas:\").split(\",\"))\n",
    "print(\"Tuples\",t)\n",
    "l=len(t)\n",
    "c=0\n",
    "for i in range(l):\n",
    "    c=int(t[i])+c\n",
    "    avg=c/l\n",
    "print(\"Average Value of the Number in Given Tuple :\",avg)"
   ]
  },
  {
   "cell_type": "code",
   "execution_count": 4,
   "metadata": {},
   "outputs": [
    {
     "name": "stdout",
     "output_type": "stream",
     "text": [
      "Enter Number seperated by commas:1,8,2,0,2,8,5\n",
      "Tuples ('1', '8', '2', '0', '2', '8', '5')\n",
      "Enter the item to be removed:5\n",
      "('1', '8', '2', '0', '2', '8')\n"
     ]
    }
   ],
   "source": [
    "#Remove an item from Tuple\n",
    "t=tuple(input(\"Enter Number seperated by commas:\").split(\",\"))\n",
    "tn=list(t)\n",
    "print(\"Tuples\",t)\n",
    "d=input(\"Enter the item to be removed:\")\n",
    "for x in t:\n",
    "    if d in x:\n",
    "        tn.remove(x)\n",
    "        result=tuple(tn)\n",
    "print(result)\n"
   ]
  },
  {
   "cell_type": "code",
   "execution_count": 5,
   "metadata": {},
   "outputs": [
    {
     "name": "stdout",
     "output_type": "stream",
     "text": [
      "Enter Number seperated by commas:1,2,3,4,5,6,7\n",
      "Tuples ('1', '2', '3', '4', '5', '6', '7')\n",
      "3rd element in tuple : 3\n",
      "3rd last element in tuple : 5\n"
     ]
    }
   ],
   "source": [
    "#third and 3rd last element of tuple\n",
    "t=tuple(input(\"Enter Number seperated by commas:\").split(\",\"))\n",
    "print(\"Tuples\",t)\n",
    "print(\"3rd element in tuple :\",t[2])\n",
    "print(\"3rd last element in tuple :\",t[-3])"
   ]
  },
  {
   "cell_type": "code",
   "execution_count": null,
   "metadata": {},
   "outputs": [],
   "source": []
  }
 ],
 "metadata": {
  "kernelspec": {
   "display_name": "Python 3",
   "language": "python",
   "name": "python3"
  },
  "language_info": {
   "codemirror_mode": {
    "name": "ipython",
    "version": 3
   },
   "file_extension": ".py",
   "mimetype": "text/x-python",
   "name": "python",
   "nbconvert_exporter": "python",
   "pygments_lexer": "ipython3",
   "version": "3.7.11"
  }
 },
 "nbformat": 4,
 "nbformat_minor": 4
}
