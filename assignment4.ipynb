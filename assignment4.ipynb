{
 "cells": [
  {
   "cell_type": "code",
   "execution_count": 12,
   "metadata": {},
   "outputs": [
    {
     "name": "stdout",
     "output_type": "stream",
     "text": [
      "enter numbers:10,20,30,49\n",
      "10,20,30,49\n",
      "['10', '20', '30', '49']\n"
     ]
    }
   ],
   "source": [
    "n=input(\"enter numbers:\")\n",
    "print(n)\n",
    "p=n.split(\",\")\n",
    "print(p)"
   ]
  },
  {
   "cell_type": "code",
   "execution_count": 13,
   "metadata": {},
   "outputs": [
    {
     "name": "stdout",
     "output_type": "stream",
     "text": [
      "enter the name of color:red,green,blue\n",
      "first color: red\n",
      "last color: blue\n"
     ]
    }
   ],
   "source": [
    "s=str(input(\"enter the name of color:\"))\n",
    "p=s.split(\",\")\n",
    "print(\"first color:\",p[0])\n",
    "print(\"last color:\",p[-1])"
   ]
  },
  {
   "cell_type": "code",
   "execution_count": 14,
   "metadata": {},
   "outputs": [
    {
     "name": "stdout",
     "output_type": "stream",
     "text": [
      "enter a file namerohit.html\n",
      "the extension of given file name: html\n"
     ]
    }
   ],
   "source": [
    "s=str(input(\"enter a file name\"))\n",
    "p=s.split(\".\")\n",
    "print(\"the extension of given file name:\",p[-1])"
   ]
  },
  {
   "cell_type": "code",
   "execution_count": null,
   "metadata": {},
   "outputs": [],
   "source": []
  }
 ],
 "metadata": {
  "kernelspec": {
   "display_name": "Python 3",
   "language": "python",
   "name": "python3"
  },
  "language_info": {
   "codemirror_mode": {
    "name": "ipython",
    "version": 3
   },
   "file_extension": ".py",
   "mimetype": "text/x-python",
   "name": "python",
   "nbconvert_exporter": "python",
   "pygments_lexer": "ipython3",
   "version": "3.7.11"
  }
 },
 "nbformat": 4,
 "nbformat_minor": 4
}

