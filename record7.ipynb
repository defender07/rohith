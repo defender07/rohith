{
 "cells": [
  {
   "cell_type": "code",
   "execution_count": null,
   "id": "91ed5e0d",
   "metadata": {},
   "outputs": [],
   "source": [
    "\n",
    "\n",
    "import rect\n",
    "import circ\n",
    "while(1):\n",
    "    print(\"\\n1.Rectangle\\n2.Circle\\n3.Exit\")\n",
    "    ch=int(input(\"Enter your choice: \"))\n",
    "    if ch==1:\n",
    "        l=int(input(\"\\nEnter length:\"))\n",
    "        b = int(input(\"Enter breadth:\"))\n",
    "        rect.rectarea(l,b)\n",
    "        rect.rectperi(l,b)\n",
    "    elif ch==2:\n",
    "        r = int(input(\"\\nEnter radius:\"))\n",
    "        circ.circlearea(r)\n",
    "        circ.circleperi(r)\n",
    "    else:\n",
    "        print(\"\\nExiting...\")\n",
    "        break\n",
    "\n",
    "1.Rectangle\n",
    "2.Circle\n",
    "3.Exit\n",
    "Enter your choice: 1\n",
    "\n",
    "Enter length:3\n",
    "Enter breadth:4\n",
    "\n",
    "Area of Rectangle: 12\n",
    "\n",
    "Perimeter of rectangle: 14\n",
    "\n",
    "1.Rectangle\n",
    "2.Circle\n",
    "3.Exit\n",
    "Enter your choice: 2\n",
    "\n",
    "Enter radius:5\n",
    "\n",
    "Area of Circle: 78.5\n",
    "\n",
    "Perimeter of circle: 31.400000000000002\n",
    "\n",
    "1.Rectangle\n",
    "2.Circle\n",
    "3.Exit\n",
    "Enter your choice: 3\n",
    "\n",
    "Exiting...\n",
    "\n",
    " \n",
    "\n"
   ]
  }
 ],
 "metadata": {
  "kernelspec": {
   "display_name": "Python 3 (ipykernel)",
   "language": "python",
   "name": "python3"
  },
  "language_info": {
   "codemirror_mode": {
    "name": "ipython",
    "version": 3
   },
   "file_extension": ".py",
   "mimetype": "text/x-python",
   "name": "python",
   "nbconvert_exporter": "python",
   "pygments_lexer": "ipython3",
   "version": "3.11.5"
  }
 },
 "nbformat": 4,
 "nbformat_minor": 5
}
