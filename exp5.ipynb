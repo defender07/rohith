{
 "cells": [
  {
   "cell_type": "code",
   "execution_count": null,
   "metadata": {},
   "outputs": [],
   "source": []
  },
  {
   "cell_type": "code",
   "execution_count": 18,
   "metadata": {},
   "outputs": [
    {
     "name": "stdout",
     "output_type": "stream",
     "text": [
      "enter a number-2\n",
      "negative number\n"
     ]
    }
   ],
   "source": [
    "n=int(input(\"enter a number\"))\n",
    "if(n>0):\n",
    "      print(\"positive number\")\n",
    "elif(n==0):\n",
    "     print(\"zero\")\n",
    "else:\n",
    "    print(\"negative number\")"
   ]
  },
  {
   "cell_type": "code",
   "execution_count": 19,
   "metadata": {},
   "outputs": [
    {
     "name": "stdout",
     "output_type": "stream",
     "text": [
      "enter the first number:10\n",
      "enter the second number number:2\n",
      "enter the third number:20\n",
      "greatest numberis: 20\n"
     ]
    }
   ],
   "source": [
    "a=int(input(\"enter the first number:\"))\n",
    "b=int(input(\"enter the second number number:\"))\n",
    "c=int(input(\"enter the third number:\"))\n",
    "if(a>b)and(b>c):\n",
    "    print(\"greatest numberis:\",a)\n",
    "elif(b>c):\n",
    "     print(\"greatest numberis:\",b)\n",
    "else:\n",
    "     print(\"greatest numberis:\",c)\n",
    "    \n",
    "    \n",
    "    "
   ]
  },
  {
   "cell_type": "code",
   "execution_count": 1,
   "metadata": {},
   "outputs": [
    {
     "name": "stdout",
     "output_type": "stream",
     "text": [
      "select the operation to perform:\n",
      "1.addition\n",
      "2.subtraction\n",
      "4.multiplication\n",
      "5.division\n",
      "enter the first input :2\n",
      "enter the second input:3\n",
      "enter the choice:1\n",
      "sum= 5\n"
     ]
    }
   ],
   "source": [
    "print(\"select the operation to perform:\")\n",
    "print(\"1.addition\")\n",
    "print(\"2.subtraction\")\n",
    "print(\"4.multiplication\")\n",
    "print(\"5.division\")\n",
    "a=int(input(\"enter the first input :\"))\n",
    "b=int(input(\"enter the second input:\"))\n",
    "ch=int(input(\"enter the choice:\"))\n",
    "if(ch==1):\n",
    "    print(\"sum=\",a+b)\n",
    "elif(ch==2):\n",
    "    print(\"differnce=\",a-b)\n",
    "elif(ch==3):\n",
    "    print(\"multiplication=\",a*b)\n",
    "elif(ch==4):\n",
    "    print(\"division=\",a/b)\n",
    "else:\n",
    "    print(\"invalid choice\")"
   ]
  },
  {
   "cell_type": "code",
   "execution_count": null,
   "metadata": {},
   "outputs": [],
   "source": []
  }
 ],
 "metadata": {
  "kernelspec": {
   "display_name": "Python 3",
   "language": "python",
   "name": "python3"
  },
  "language_info": {
   "codemirror_mode": {
    "name": "ipython",
    "version": 3
   },
   "file_extension": ".py",
   "mimetype": "text/x-python",
   "name": "python",
   "nbconvert_exporter": "python",
   "pygments_lexer": "ipython3",
   "version": "3.7.11"
  }
 },
 "nbformat": 4,
 "nbformat_minor": 4
}
