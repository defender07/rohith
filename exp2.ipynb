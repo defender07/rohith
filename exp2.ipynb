{
 "cells": [
  {
   "cell_type": "code",
   "execution_count": null,
   "metadata": {},
   "outputs": [],
   "source": []
  },
  {
   "cell_type": "code",
   "execution_count": 2,
   "metadata": {},
   "outputs": [
    {
     "name": "stdout",
     "output_type": "stream",
     "text": [
      "area of circle\n",
      "enter the radius of circle:4\n",
      "area= 50.24\n"
     ]
    }
   ],
   "source": [
    "#area of circle\n",
    "print(\"area of circle\")\n",
    "r=float(input(\"enter the radius of circle:\"))\n",
    "area=3.14*r*r\n",
    "print(\"area=\",area)\n"
   ]
  },
  {
   "cell_type": "code",
   "execution_count": 6,
   "metadata": {},
   "outputs": [
    {
     "name": "stdout",
     "output_type": "stream",
     "text": [
      "celsius to fahrnheit\n",
      "enter the temperature in celsius:30\n",
      "temperature in fahrnheit= 86.0\n"
     ]
    }
   ],
   "source": [
    "#celsious to fahrnheit\n",
    "print(\"celsius to fahrnheit\")\n",
    "c=float(input(\"enter the temperature in celsius:\"))\n",
    "f=float(c*9/5)+32\n",
    "print(\"temperature in fahrnheit=\",f)"
   ]
  },
  {
   "cell_type": "code",
   "execution_count": 7,
   "metadata": {},
   "outputs": [
    {
     "name": "stdout",
     "output_type": "stream",
     "text": [
      "kilometer to miles\n",
      "enter the distance in kilometers:30\n",
      "the distance in mile: 18.64113\n"
     ]
    }
   ],
   "source": [
    "#kilometer to miles\n",
    "print(\"kilometer to miles\")\n",
    "km=float(input(\"enter the distance in kilometers:\"))\n",
    "m=km*0.621371\n",
    "print(\"the distance in mile:\",m)\n"
   ]
  },
  {
   "cell_type": "code",
   "execution_count": 9,
   "metadata": {},
   "outputs": [
    {
     "name": "stdout",
     "output_type": "stream",
     "text": [
      "biggest of two numbers\n",
      "enter the first number:3\n",
      "enter the second number:10\n",
      "the greatest number is 10\n"
     ]
    }
   ],
   "source": [
    "#biggest of two numbers\n",
    "print(\"biggest of two numbers\")\n",
    "a=int(input(\"enter the first number:\"))\n",
    "b=int(input(\"enter the second number:\"))\n",
    "if a<b:\n",
    "   print(\"the greatest number is\",b)\n",
    "else:print(\"the greatest number is\",a)"
   ]
  },
  {
   "cell_type": "code",
   "execution_count": null,
   "metadata": {},
   "outputs": [],
   "source": []
  }
 ],
 "metadata": {
  "kernelspec": {
   "display_name": "Python 3",
   "language": "python",
   "name": "python3"
  },
  "language_info": {
   "codemirror_mode": {
    "name": "ipython",
    "version": 3
   },
   "file_extension": ".py",
   "mimetype": "text/x-python",
   "name": "python",
   "nbconvert_exporter": "python",
   "pygments_lexer": "ipython3",
   "version": "3.7.11"
  }
 },
 "nbformat": 4,
 "nbformat_minor": 4
}
