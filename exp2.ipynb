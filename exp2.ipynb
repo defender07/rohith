{
 "cells": [
  {
   "cell_type": "code",
   "execution_count": 3,
   "metadata": {},
   "outputs": [
    {
     "ename": "IndentationError",
     "evalue": "unexpected indent (<ipython-input-3-2e47ad6a4cca>, line 3)",
     "output_type": "error",
     "traceback": [
      "\u001b[0;36m  File \u001b[0;32m\"<ipython-input-3-2e47ad6a4cca>\"\u001b[0;36m, line \u001b[0;32m3\u001b[0m\n\u001b[0;31m    print(\"area of circle\")\u001b[0m\n\u001b[0m    ^\u001b[0m\n\u001b[0;31mIndentationError\u001b[0m\u001b[0;31m:\u001b[0m unexpected indent\n"
     ]
    }
   ],
   "source": [
    "# AREA OF CIRCLE \n",
    "\n",
    " print(\"area of circle\")\n",
    " r=int(input(\"enter the radius of circle:\"))\n",
    " area=3.14*r*r\n",
    " print(\"area=\",area)"
   ]
  },
  {
   "cell_type": "code",
   "execution_count": 5,
   "metadata": {},
   "outputs": [
    {
     "name": "stdout",
     "output_type": "stream",
     "text": [
      "area of circle\n",
      "enter the radius of circle:2\n",
      "area= 12.56\n"
     ]
    }
   ],
   "source": [
    "print(\"area of circle\")\n",
    "r=float(input(\"enter the radius of circle:\"))\n",
    "area=3.14*r*r\n",
    "print(\"area=\",area)\n"
   ]
  },
  {
   "cell_type": "code",
   "execution_count": 6,
   "metadata": {},
   "outputs": [
    {
     "name": "stdout",
     "output_type": "stream",
     "text": [
      "celsius to fahrnheit\n",
      "enter the temperature in celsius:30\n",
      "temperature in fahrnheit= 86.0\n"
     ]
    }
   ],
   "source": [
    "print(\"celsius to fahrnheit\")\n",
    "c=float(input(\"enter the temperature in celsius:\"))\n",
    "f=float(c*9/5)+32\n",
    "print(\"temperature in fahrnheit=\",f)"
   ]
  },
  {
   "cell_type": "code",
   "execution_count": 7,
   "metadata": {},
   "outputs": [
    {
     "name": "stdout",
     "output_type": "stream",
     "text": [
      "kilometer to miles\n",
      "enter the distance in kilometers:30\n",
      "the distance in mile: 18.64113\n"
     ]
    }
   ],
   "source": [
    "print(\"kilometer to miles\")\n",
    "km=float(input(\"enter the distance in kilometers:\"))\n",
    "m=km*0.621371\n",
    "print(\"the distance in mile:\",m)\n"
   ]
  },
  {
   "cell_type": "code",
   "execution_count": 9,
   "metadata": {},
   "outputs": [
    {
     "name": "stdout",
     "output_type": "stream",
     "text": [
      "biggest of two numbers\n",
      "enter the first number:3\n",
      "enter the second number:10\n",
      "the greatest number is 10\n"
     ]
    }
   ],
   "source": [
    "print(\"biggest of two numbers\")\n",
    "a=int(input(\"enter the first number:\"))\n",
    "b=int(input(\"enter the second number:\"))\n",
    "if a<b:\n",
    "   print(\"the greatest number is\",b)\n",
    "else:print(\"the greatest number is\",a)"
   ]
  },
  {
   "cell_type": "code",
   "execution_count": null,
   "metadata": {},
   "outputs": [],
   "source": []
  }
 ],
 "metadata": {
  "kernelspec": {
   "display_name": "Python 3",
   "language": "python",
   "name": "python3"
  },
  "language_info": {
   "codemirror_mode": {
    "name": "ipython",
    "version": 3
   },
   "file_extension": ".py",
   "mimetype": "text/x-python",
   "name": "python",
   "nbconvert_exporter": "python",
   "pygments_lexer": "ipython3",
   "version": "3.7.11"
  }
 },
 "nbformat": 4,
 "nbformat_minor": 4
}
