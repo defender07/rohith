{
 "cells": [
  {
   "cell_type": "code",
   "execution_count": 8,
   "metadata": {},
   "outputs": [
    {
     "name": "stdout",
     "output_type": "stream",
     "text": [
      "enter a number:5\n",
      "factorial of given number is : 120\n"
     ]
    }
   ],
   "source": [
    "#\n",
    "n=int(input(\"enter a number:\"))\n",
    "f=1\n",
    "if(n==0):\n",
    "    print(\"factorial is 1\")\n",
    "else:\n",
    "    for i in range(1,n+1):\n",
    "        f=f*i\n",
    "    print(\"factorial of given number is :\",f)"
   ]
  },
  {
   "cell_type": "code",
   "execution_count": 10,
   "metadata": {},
   "outputs": [
    {
     "name": "stdout",
     "output_type": "stream",
     "text": [
      "enter a number:5\n",
      "fibonacci series:\n",
      "1\n",
      "1\n",
      "2\n",
      "3\n",
      "5\n",
      "8\n"
     ]
    }
   ],
   "source": [
    "n=int(input(\"enter a number:\"))\n",
    "a=0\n",
    "b=1\n",
    "print(\"fibonacci series:\")\n",
    "print(b)\n",
    "i=1\n",
    "while(i<=n):\n",
    "    r=a+b\n",
    "    print(r)\n",
    "    a=b\n",
    "    b=r\n",
    "    i=i+1\n",
    "    \n"
   ]
  },
  {
   "cell_type": "code",
   "execution_count": 11,
   "metadata": {},
   "outputs": [
    {
     "name": "stdout",
     "output_type": "stream",
     "text": [
      "enter 1st number :5\n",
      "enter 2nd number:10\n",
      "GCD of 5 and 10 is 5\n"
     ]
    }
   ],
   "source": [
    "n1=int(input(\"enter 1st number :\"))\n",
    "n2=int(input(\"enter 2nd number:\"))\n",
    "a=n1\n",
    "b=n2\n",
    "while n1!=n2:\n",
    "    if n1>n2:\n",
    "        n1-=n2\n",
    "    else:\n",
    "        n2-=n1\n",
    "print(\"GCD of\",a,\"and\",b,\"is\",n1)"
   ]
  },
  {
   "cell_type": "code",
   "execution_count": 14,
   "metadata": {},
   "outputs": [
    {
     "name": "stdout",
     "output_type": "stream",
     "text": [
      "enter list of numbers:10,50,70\n",
      "sum of elements in ['10', '50', '70'] = 130\n"
     ]
    }
   ],
   "source": [
    "##find list sum\n",
    "l=list(input(\"enter list of numbers:\").split(\",\"))\n",
    "m=len(l)\n",
    "a=0\n",
    "i=0\n",
    "for i in range(m):\n",
    "    b=int(l[i])\n",
    "    a=a+b\n",
    "print(\"sum of elements in\",l,\"=\",a)\n"
   ]
  },
  {
   "cell_type": "code",
   "execution_count": 15,
   "metadata": {},
   "outputs": [
    {
     "name": "stdout",
     "output_type": "stream",
     "text": [
      "enter numbers supperated by commas:1,5,6,3,9\n",
      "tuple= ('1', '5', '6', '3', '9')\n",
      "average value of the numbers in given tuple: 4.8\n"
     ]
    }
   ],
   "source": [
    "t=tuple(input(\"enter numbers supperated by commas:\").split(\",\"))\n",
    "print(\"tuple=\",t)\n",
    "l=len(t)\n",
    "c=0\n",
    "for i in range(l):\n",
    "    c=int(t[i])+c\n",
    "    avg=c/l\n",
    "print(\"average value of the numbers in given tuple:\",avg)\n"
   ]
  },
  {
   "cell_type": "code",
   "execution_count": 17,
   "metadata": {},
   "outputs": [
    {
     "name": "stdout",
     "output_type": "stream",
     "text": [
      "enter a string:escape from infinity\n",
      "e is repeated 2 time(s)\n",
      "s is repeated 1 time(s)\n",
      "c is repeated 1 time(s)\n",
      "a is repeated 1 time(s)\n",
      "p is repeated 1 time(s)\n",
      "  is repeated 2 time(s)\n",
      "f is repeated 2 time(s)\n",
      "r is repeated 1 time(s)\n",
      "o is repeated 1 time(s)\n",
      "m is repeated 1 time(s)\n",
      "i is repeated 3 time(s)\n",
      "n is repeated 2 time(s)\n",
      "t is repeated 1 time(s)\n",
      "y is repeated 1 time(s)\n"
     ]
    }
   ],
   "source": [
    "s=input(\"enter a string:\")\n",
    "f={}\n",
    "for i in s:\n",
    "    if i in f:\n",
    "        f[i]=f[i]+1\n",
    "    else:\n",
    "        f[i]=1\n",
    "for keys,value in f.items():\n",
    "    print(keys,\"is repeated\",value,\"time(s)\")"
   ]
  },
  {
   "cell_type": "code",
   "execution_count": null,
   "metadata": {},
   "outputs": [],
   "source": []
  }
 ],
 "metadata": {
  "kernelspec": {
   "display_name": "Python 3",
   "language": "python",
   "name": "python3"
  },
  "language_info": {
   "codemirror_mode": {
    "name": "ipython",
    "version": 3
   },
   "file_extension": ".py",
   "mimetype": "text/x-python",
   "name": "python",
   "nbconvert_exporter": "python",
   "pygments_lexer": "ipython3",
   "version": "3.7.11"
  }
 },
 "nbformat": 4,
 "nbformat_minor": 4
}
