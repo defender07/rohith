{
 "cells": [
  {
   "cell_type": "code",
   "execution_count": 1,
   "metadata": {},
   "outputs": [
    {
     "name": "stdout",
     "output_type": "stream",
     "text": [
      "hello\n"
     ]
    }
   ],
   "source": [
    "print(\"hello\")"
   ]
  },
  {
   "cell_type": "code",
   "execution_count": null,
   "metadata": {},
   "outputs": [],
   "source": []
  },
  {
   "cell_type": "code",
   "execution_count": 3,
   "metadata": {},
   "outputs": [
    {
     "name": "stdout",
     "output_type": "stream",
     "text": [
      "devakinilayam\n",
      " po eruvatty\n",
      " kannur\n",
      " kerala\n"
     ]
    }
   ],
   "source": [
    "print(\"devakinilayam\\n po eruvatty\\n kannur\\n kerala\")"
   ]
  },
  {
   "cell_type": "code",
   "execution_count": 4,
   "metadata": {},
   "outputs": [
    {
     "name": "stdout",
     "output_type": "stream",
     "text": [
      "8\n"
     ]
    }
   ],
   "source": [
    "a=3\n",
    "b=5\n",
    "print(a+b)"
   ]
  },
  {
   "cell_type": "code",
   "execution_count": 5,
   "metadata": {},
   "outputs": [
    {
     "name": "stdout",
     "output_type": "stream",
     "text": [
      "enter the first number4\n",
      "enter the second number5\n",
      "sum= 9\n"
     ]
    }
   ],
   "source": [
    "a=int(input(\"enter the first number\"))\n",
    "b=int (input(\"enter the second number\"))\n",
    "sum=a+b\n",
    "print(\"sum=\",sum)"
   ]
  },
  {
   "cell_type": "code",
   "execution_count": 7,
   "metadata": {},
   "outputs": [
    {
     "name": "stdout",
     "output_type": "stream",
     "text": [
      "enter the side of squre4\n",
      "area= 16\n"
     ]
    }
   ],
   "source": [
    "a=int(input(\"enter the side of squre\"))\n",
    "area=a*a\n",
    "print(\"area=\",area)"
   ]
  },
  {
   "cell_type": "code",
   "execution_count": 12,
   "metadata": {},
   "outputs": [
    {
     "name": "stdout",
     "output_type": "stream",
     "text": [
      "enter the height4\n",
      "enter the base6\n",
      "area= 12.0\n"
     ]
    }
   ],
   "source": [
    "\n",
    "h=int(input(\"enter the height\"))\n",
    "b=int(input(\"enter the base\"))\n",
    "area=.5*b*h\n",
    "print(\"area=\",area)"
   ]
  },
  {
   "cell_type": "code",
   "execution_count": 5,
   "metadata": {},
   "outputs": [
    {
     "name": "stdout",
     "output_type": "stream",
     "text": [
      "enter the value of n=3\n",
      "sum= 369\n"
     ]
    }
   ],
   "source": [
    "n=int(input(\"enter the value of n=\"))\n",
    "sum=n+(n*10)+n+(n*100)+(n*10)+n\n",
    "print(\"sum=\",sum)"
   ]
  },
  {
   "cell_type": "code",
   "execution_count": 6,
   "metadata": {},
   "outputs": [
    {
     "name": "stdout",
     "output_type": "stream",
     "text": [
      "enter an integer number:3\n",
      "previous number is: 2\n",
      "next number is: 4\n"
     ]
    }
   ],
   "source": [
    "a=int(input(\"enter an integer number:\"))\n",
    "print(\"previous number is:\",a-1)\n",
    "print(\"next number is:\",a+1)"
   ]
  },
  {
   "cell_type": "code",
   "execution_count": 3,
   "metadata": {},
   "outputs": [
    {
     "name": "stdout",
     "output_type": "stream",
     "text": [
      "enter the principle amount5000\n",
      "enter the rate of interst3\n",
      "enter the time period2\n",
      "simple interst= 300.0\n"
     ]
    }
   ],
   "source": [
    "p=int(input(\"enter the principle amount\"))\n",
    "r=int(input(\"enter the rate of interst\"))\n",
    "t=int(inputipynb(\"enter the time period\"))\n",
    "si=(p*r*t)/100\n",
    "print(\"simple interst=\",si)"
   ]
  },
  {
   "cell_type": "code",
   "execution_count": 2,
   "metadata": {},
   "outputs": [
    {
     "name": "stdout",
     "output_type": "stream",
     "text": [
      "previous and next\n",
      "enter the number32\n",
      "31\n",
      "33\n"
     ]
    }
   ],
   "source": [
    "print(\"previous and next\")\n",
    "a=int(input(\"enter the number\"))\n",
    "previous=a-1\n",
    "next=a+1\n",
    "print(previous)\n",
    "print(next)"
   ]
  },
  {
   "cell_type": "code",
   "execution_count": 1,
   "metadata": {},
   "outputs": [
    {
     "name": "stdout",
     "output_type": "stream",
     "text": [
      "enter the value :5\n",
      "sum is 5 + 55 + 555 = 615\n"
     ]
    }
   ],
   "source": [
    "n=(int(input(\"enter the value :\")))\n",
    "nn=(10*n)+n\n",
    "nnn=(100*n)+nn\n",
    "sum=n+nn+nnn\n",
    "print(\"sum is\",n,\"+\",nn,\"+\",nnn,\"=\",sum)"
   ]
  },
  {
   "cell_type": "code",
   "execution_count": 5,
   "metadata": {},
   "outputs": [
    {
     "name": "stdout",
     "output_type": "stream",
     "text": [
      "enter the base of triangle:5\n",
      "enter the height of the triangle:3\n",
      "the area of triangle is = 7.5\n"
     ]
    }
   ],
   "source": [
    "b=float(input(\"enter the base of triangle:\"))\n",
    "h=float(input(\"enter the height of the triangle:\"))\n",
    "area=(0.5)*b*h\n",
    "print(\"the area of triangle is =\",area)\n",
    "\n"
   ]
  },
  {
   "cell_type": "code",
   "execution_count": null,
   "metadata": {},
   "outputs": [],
   "source": []
  }
 ],
 "metadata": {
  "kernelspec": {
   "display_name": "Python 3",
   "language": "python",
   "name": "python3"
  },
  "language_info": {
   "codemirror_mode": {
    "name": "ipython",
    "version": 3
   },
   "file_extension": ".py",
   "mimetype": "text/x-python",
   "name": "python",
   "nbconvert_exporter": "python",
   "pygments_lexer": "ipython3",
   "version": "3.7.11"
  }
 },
 "nbformat": 4,
 "nbformat_minor": 4
}
