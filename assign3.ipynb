{
 "cells": [
  {
   "cell_type": "code",
   "execution_count": null,
   "metadata": {},
   "outputs": [],
   "source": []
  },
  {
   "cell_type": "code",
   "execution_count": 6,
   "metadata": {},
   "outputs": [
    {
     "name": "stdout",
     "output_type": "stream",
     "text": [
      "changing the order of letters in strings\n",
      "enter the string:apple\n",
      "new string is  eppla\n"
     ]
    }
   ],
   "source": [
    "print(\"changing the order of letters in strings\")\n",
    "s=str(input(\"enter the string:\"))\n",
    "a=s[0]\n",
    "c=s[-1]\n",
    "b=c+s[1:-1]+a\n",
    "print(\"new string is \",b)"
   ]
  },
  {
   "cell_type": "code",
   "execution_count": null,
   "metadata": {},
   "outputs": [],
   "source": []
  },
  {
   "cell_type": "code",
   "execution_count": 2,
   "metadata": {},
   "outputs": [
    {
     "name": "stdout",
     "output_type": "stream",
     "text": [
      "display two string and swap\n",
      "enter the first string:hello\n",
      "enter the second string:world\n",
      "resultant string is hello world\n",
      "the new string is wollo herld\n"
     ]
    }
   ],
   "source": [
    "print(\"display two string and swap\")\n",
    "s1=str(input(\"enter the first string:\"))\n",
    "s2=str(input(\"enter the second string:\"))\n",
    "print(\"resultant string is\",s1,s2)\n",
    "a=s1[0:2]\n",
    "b=s2[0:2]\n",
    "s3=b+s1[2:]\n",
    "s4=a+s2[2:]\n",
    "print(\"the new string is\",s3,s4)"
   ]
  },
  {
   "cell_type": "code",
   "execution_count": null,
   "metadata": {},
   "outputs": [],
   "source": []
  },
  {
   "cell_type": "code",
   "execution_count": null,
   "metadata": {},
   "outputs": [],
   "source": []
  },
  {
   "cell_type": "code",
   "execution_count": 3,
   "metadata": {},
   "outputs": [
    {
     "name": "stdout",
     "output_type": "stream",
     "text": [
      "replacing letters in a string\n",
      "enter the string:eggle\n",
      "new string is eggl$\n"
     ]
    }
   ],
   "source": [
    "print(\"replacing letters in a string\")\n",
    "s=str(input(\"enter the string:\"))\n",
    "a=s[0]\n",
    "b=s[1:]\n",
    "st=b.replace(a,\"$\")\n",
    "sn=s[0]+st\n",
    "print(\"new string is\",sn)"
   ]
  },
  {
   "cell_type": "code",
   "execution_count": 4,
   "metadata": {},
   "outputs": [
    {
     "name": "stdout",
     "output_type": "stream",
     "text": [
      "new sring from a given string using first two and last two letters\n",
      "enter the string:apple\n",
      "new string is aple\n"
     ]
    }
   ],
   "source": [
    "print(\"new sring from a given string using first two and last two letters\")\n",
    "s=str(input(\"enter the string:\"))\n",
    "a=s[0:2]\n",
    "b=s[-2:5]\n",
    "st=a+b\n",
    "print(\"new string is\",st)"
   ]
  },
  {
   "cell_type": "code",
   "execution_count": null,
   "metadata": {},
   "outputs": [],
   "source": []
  }
 ],
 "metadata": {
  "kernelspec": {
   "display_name": "Python 3",
   "language": "python",
   "name": "python3"
  },
  "language_info": {
   "codemirror_mode": {
    "name": "ipython",
    "version": 3
   },
   "file_extension": ".py",
   "mimetype": "text/x-python",
   "name": "python",
   "nbconvert_exporter": "python",
   "pygments_lexer": "ipython3",
   "version": "3.7.11"
  }
 },
 "nbformat": 4,
 "nbformat_minor": 4
}
