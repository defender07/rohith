{
 "cells": [
  {
   "cell_type": "code",
   "execution_count": null,
   "metadata": {},
   "outputs": [],
   "source": []
  },
  {
   "cell_type": "code",
   "execution_count": null,
   "metadata": {},
   "outputs": [],
   "source": []
  },
  {
   "cell_type": "code",
   "execution_count": null,
   "metadata": {},
   "outputs": [],
   "source": []
  },
  {
   "cell_type": "code",
   "execution_count": null,
   "metadata": {},
   "outputs": [],
   "source": []
  },
  {
   "cell_type": "code",
   "execution_count": null,
   "metadata": {},
   "outputs": [],
   "source": []
  },
  {
   "cell_type": "code",
   "execution_count": 7,
   "metadata": {},
   "outputs": [
    {
     "name": "stdout",
     "output_type": "stream",
     "text": [
      "enter the side of squre4\n",
      "area= 16\n"
     ]
    }
   ],
   "source": [
    "#AREA OF SQURE\n",
    "a=int(input(\"enter the side of squre\"))\n",
    "area=a*a\n",
    "print(\"area=\",area)"
   ]
  },
  {
   "cell_type": "code",
   "execution_count": 12,
   "metadata": {},
   "outputs": [
    {
     "name": "stdout",
     "output_type": "stream",
     "text": [
      "enter the height4\n",
      "enter the base6\n",
      "area= 12.0\n"
     ]
    }
   ],
   "source": [
    "#AREA OF TRIANGLE\n",
    "h=int(input(\"enter the height\"))\n",
    "b=int(input(\"enter the base\"))\n",
    "area=.5*b*h\n",
    "print(\"area=\",area)"
   ]
  },
  {
   "cell_type": "code",
   "execution_count": null,
   "metadata": {},
   "outputs": [],
   "source": []
  },
  {
   "cell_type": "code",
   "execution_count": 6,
   "metadata": {},
   "outputs": [
    {
     "name": "stdout",
     "output_type": "stream",
     "text": [
      "enter an integer number:3\n",
      "previous number is: 2\n",
      "next number is: 4\n"
     ]
    }
   ],
   "source": [
    "# previous and next\n",
    "a=int(input(\"enter an integer number:\"))\n",
    "print(\"previous number is:\",a-1)\n",
    "print(\"next number is:\",a+1)"
   ]
  },
  {
   "cell_type": "code",
   "execution_count": 3,
   "metadata": {},
   "outputs": [
    {
     "name": "stdout",
     "output_type": "stream",
     "text": [
      "enter the principle amount5000\n",
      "enter the rate of interst3\n",
      "enter the time period2\n",
      "simple interst= 300.0\n"
     ]
    }
   ],
   "source": [
    "#SI\n",
    "p=int(input(\"enter the principle amount\"))\n",
    "r=int(input(\"enter the rate of interst\"))\n",
    "t=int(inputipynb(\"enter the time period\"))\n",
    "si=(p*r*t)/100\n",
    "print(\"simple interst=\",si)"
   ]
  },
  {
   "cell_type": "code",
   "execution_count": null,
   "metadata": {},
   "outputs": [],
   "source": []
  },
  {
   "cell_type": "code",
   "execution_count": 1,
   "metadata": {},
   "outputs": [
    {
     "name": "stdout",
     "output_type": "stream",
     "text": [
      "enter the value :5\n",
      "sum is 5 + 55 + 555 = 615\n"
     ]
    }
   ],
   "source": [
    "# SUM OF N+NN+NNN\n",
    "n=(int(input(\"enter the value :\")))\n",
    "nn=(10*n)+n\n",
    "nnn=(100*n)+nn\n",
    "sum=n+nn+nnn\n",
    "print(\"sum is\",n,\"+\",nn,\"+\",nnn,\"=\",sum)"
   ]
  },
  {
   "cell_type": "code",
   "execution_count": null,
   "metadata": {},
   "outputs": [],
   "source": [
    "\n"
   ]
  },
  {
   "cell_type": "code",
   "execution_count": null,
   "metadata": {},
   "outputs": [],
   "source": []
  }
 ],
 "metadata": {
  "kernelspec": {
   "display_name": "Python 3",
   "language": "python",
   "name": "python3"
  },
  "language_info": {
   "codemirror_mode": {
    "name": "ipython",
    "version": 3
   },
   "file_extension": ".py",
   "mimetype": "text/x-python",
   "name": "python",
   "nbconvert_exporter": "python",
   "pygments_lexer": "ipython3",
   "version": "3.7.11"
  }
 },
 "nbformat": 4,
 "nbformat_minor": 4
}
